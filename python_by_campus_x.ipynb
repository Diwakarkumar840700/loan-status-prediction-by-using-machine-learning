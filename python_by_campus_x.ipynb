{
  "nbformat": 4,
  "nbformat_minor": 0,
  "metadata": {
    "colab": {
      "provenance": [],
      "authorship_tag": "ABX9TyNbH5jBP4AITOt72wMK2pik",
      "include_colab_link": true
    },
    "kernelspec": {
      "name": "python3",
      "display_name": "Python 3"
    },
    "language_info": {
      "name": "python"
    }
  },
  "cells": [
    {
      "cell_type": "markdown",
      "metadata": {
        "id": "view-in-github",
        "colab_type": "text"
      },
      "source": [
        "<a href=\"https://colab.research.google.com/github/Diwakarkumar840700/machine-learning-project1/blob/main/python_by_campus_x.ipynb\" target=\"_parent\"><img src=\"https://colab.research.google.com/assets/colab-badge.svg\" alt=\"Open In Colab\"/></a>"
      ]
    },
    {
      "cell_type": "markdown",
      "source": [
        "python by campus x\n"
      ],
      "metadata": {
        "id": "EfbV1itApmtD"
      }
    },
    {
      "cell_type": "markdown",
      "source": [],
      "metadata": {
        "id": "FQfbO3YQW8oR"
      }
    },
    {
      "cell_type": "markdown",
      "source": [
        "# lecture 1 (print function )"
      ],
      "metadata": {
        "id": "8vcLV2Qmpz-o"
      }
    },
    {
      "cell_type": "markdown",
      "source": [],
      "metadata": {
        "id": "gnF_eS4cqE6k"
      }
    },
    {
      "cell_type": "code",
      "source": [
        "# if else statement\n"
      ],
      "metadata": {
        "id": "8zWn9x8HpsCQ"
      },
      "execution_count": null,
      "outputs": []
    },
    {
      "cell_type": "code",
      "source": [
        "email=input(\"apna email bta\")\n",
        "password=input(\"password bhi bta\")\n",
        "\n",
        "if email==\"campusx@gmail.com\" and password==\"1234\":\n",
        "  print(\"welcome\")\n",
        "else:\n",
        "  print(\"crenditial incorrect\")"
      ],
      "metadata": {
        "id": "McYdcFu2pyRO"
      },
      "execution_count": null,
      "outputs": []
    },
    {
      "cell_type": "markdown",
      "source": [
        "guessing game\n"
      ],
      "metadata": {
        "id": "j2AqUy4ptzK_"
      }
    },
    {
      "cell_type": "code",
      "source": [
        "import random\n",
        "random.randint(1,100)"
      ],
      "metadata": {
        "colab": {
          "base_uri": "https://localhost:8080/"
        },
        "id": "yjIwRXyDt37w",
        "outputId": "70d314f1-97ec-4c99-a332-556fd57c03c3"
      },
      "execution_count": null,
      "outputs": [
        {
          "output_type": "execute_result",
          "data": {
            "text/plain": [
              "41"
            ]
          },
          "metadata": {},
          "execution_count": 1
        }
      ]
    },
    {
      "cell_type": "code",
      "source": [],
      "metadata": {
        "id": "mxrdyjD8uIS6"
      },
      "execution_count": null,
      "outputs": []
    },
    {
      "cell_type": "markdown",
      "source": [
        "object oriented programming by campusx"
      ],
      "metadata": {
        "id": "5OW5_xbvW-6g"
      }
    },
    {
      "cell_type": "code",
      "source": [
        "l=[1,2,3]\n",
        "l.upper()"
      ],
      "metadata": {
        "id": "7dYb3LKLXHWI"
      },
      "execution_count": null,
      "outputs": []
    },
    {
      "cell_type": "markdown",
      "source": [
        "python oops\n"
      ],
      "metadata": {
        "id": "kwTZf_o8z0eV"
      }
    },
    {
      "cell_type": "markdown",
      "source": [
        "string format in python"
      ],
      "metadata": {
        "id": "MT1XEB6j6AHB"
      }
    },
    {
      "cell_type": "code",
      "source": [
        "text3=\"welcome to {}{}\".format(\"wscube\",\"tech\")\n",
        "print(text3)"
      ],
      "metadata": {
        "id": "3QjMhyjzz36s",
        "colab": {
          "base_uri": "https://localhost:8080/"
        },
        "outputId": "25a2dff2-34c1-43a2-82a3-9954a0ff66c4"
      },
      "execution_count": null,
      "outputs": [
        {
          "output_type": "stream",
          "name": "stdout",
          "text": [
            "welcome to wscubetech\n"
          ]
        }
      ]
    },
    {
      "cell_type": "code",
      "source": [
        "text2=\"welcome to {} to {} \".format(\"wscube\",\"tech\")\n",
        "print(text2)"
      ],
      "metadata": {
        "colab": {
          "base_uri": "https://localhost:8080/"
        },
        "id": "I2Kwk1ug6ZJJ",
        "outputId": "5978b981-6c05-4d6b-cde6-316ad5698e81"
      },
      "execution_count": null,
      "outputs": [
        {
          "output_type": "stream",
          "name": "stdout",
          "text": [
            "welcome to wscube to tech \n"
          ]
        }
      ]
    },
    {
      "cell_type": "code",
      "source": [
        "text4=\"welcome {1} to {0} \".format(\"hello\",\"20\")\n",
        "print(text4)"
      ],
      "metadata": {
        "colab": {
          "base_uri": "https://localhost:8080/"
        },
        "id": "Y_lpk3Gy9904",
        "outputId": "644b1f57-303e-4a5d-a19e-729d57d84248"
      },
      "execution_count": null,
      "outputs": [
        {
          "output_type": "stream",
          "name": "stdout",
          "text": [
            "welcome 20 to hello \n"
          ]
        }
      ]
    },
    {
      "cell_type": "code",
      "source": [
        "text5=\"welcome {0}{1}\".format(\"hell\",\"10\")\n",
        "print(text5)"
      ],
      "metadata": {
        "colab": {
          "base_uri": "https://localhost:8080/"
        },
        "id": "S_i8tUnB-l4l",
        "outputId": "e0e9c297-791d-47f4-ea57-1e2f4052439a"
      },
      "execution_count": null,
      "outputs": [
        {
          "output_type": "stream",
          "name": "stdout",
          "text": [
            "welcome hell10\n"
          ]
        }
      ]
    },
    {
      "cell_type": "markdown",
      "source": [
        "format indexing in python"
      ],
      "metadata": {
        "id": "3jAX9Pb5J9kb"
      }
    },
    {
      "cell_type": "code",
      "source": [
        "text=\"welcome {a} to {b}\".format(a=30,b=20)\n",
        "print(text)"
      ],
      "metadata": {
        "colab": {
          "base_uri": "https://localhost:8080/"
        },
        "id": "u0DoYA3-Te10",
        "outputId": "37a2584e-d042-4df8-b492-0b5ab4cb21f0"
      },
      "execution_count": null,
      "outputs": [
        {
          "output_type": "stream",
          "name": "stdout",
          "text": [
            "welcome 30 to 20\n"
          ]
        }
      ]
    },
    {
      "cell_type": "markdown",
      "source": [],
      "metadata": {
        "id": "pJQN3z0VLzg7"
      }
    },
    {
      "cell_type": "code",
      "source": [
        "text=\"welcome {a} to {b}\".format(a=30,b=20)\n",
        "print(text)"
      ],
      "metadata": {
        "colab": {
          "base_uri": "https://localhost:8080/"
        },
        "id": "QEcjIrhULfPd",
        "outputId": "3d4e1ab8-dac3-4317-ffd6-4f7d65106174"
      },
      "execution_count": null,
      "outputs": [
        {
          "output_type": "stream",
          "name": "stdout",
          "text": [
            "welcome 30 to 20\n"
          ]
        }
      ]
    },
    {
      "cell_type": "code",
      "source": [
        "# we can also use placeholder"
      ],
      "metadata": {
        "id": "nX1yxPgfL2d5"
      },
      "execution_count": null,
      "outputs": []
    },
    {
      "cell_type": "markdown",
      "source": [
        "list\n"
      ],
      "metadata": {
        "id": "XVATwq0ObkJG"
      }
    },
    {
      "cell_type": "code",
      "source": [
        "l=[1,2,3,4,\"hello\",5]\n",
        "print(type(l))"
      ],
      "metadata": {
        "colab": {
          "base_uri": "https://localhost:8080/"
        },
        "id": "M9Sgu48qbn4K",
        "outputId": "d4d8e626-3beb-404c-a950-943b480c7f34"
      },
      "execution_count": null,
      "outputs": [
        {
          "output_type": "stream",
          "name": "stdout",
          "text": [
            "<class 'list'>\n"
          ]
        }
      ]
    },
    {
      "cell_type": "code",
      "source": [
        "print(l[2])"
      ],
      "metadata": {
        "colab": {
          "base_uri": "https://localhost:8080/"
        },
        "id": "G1_H1A4gcDdn",
        "outputId": "4dd46d37-5eeb-4f29-de6d-22c07ada6cd9"
      },
      "execution_count": null,
      "outputs": [
        {
          "output_type": "stream",
          "name": "stdout",
          "text": [
            "3\n"
          ]
        }
      ]
    },
    {
      "cell_type": "code",
      "source": [
        "print(l[2:])"
      ],
      "metadata": {
        "colab": {
          "base_uri": "https://localhost:8080/"
        },
        "id": "oRSD29mMcjY0",
        "outputId": "95b62bf9-0201-4067-e6fb-d48028f4e9d7"
      },
      "execution_count": null,
      "outputs": [
        {
          "output_type": "stream",
          "name": "stdout",
          "text": [
            "[3, 4, 'hello', 5]\n"
          ]
        }
      ]
    },
    {
      "cell_type": "markdown",
      "source": [
        "in list we perform 2 argument and also perform 3 argument\n",
        "\n",
        "and also perform 3 argument in list slicing after : its indicate condition and after this its indicate print after 2 element"
      ],
      "metadata": {
        "id": "cK7Xs8GWc53c"
      }
    },
    {
      "cell_type": "code",
      "source": [
        "print(l[2: :2])"
      ],
      "metadata": {
        "colab": {
          "base_uri": "https://localhost:8080/"
        },
        "id": "NzXFzStkct_2",
        "outputId": "63dc6fd6-1630-445f-b209-75734c306651"
      },
      "execution_count": null,
      "outputs": [
        {
          "output_type": "stream",
          "name": "stdout",
          "text": [
            "[3, 'hello']\n"
          ]
        }
      ]
    },
    {
      "cell_type": "code",
      "source": [
        "#we can also perform reverse slicing\n",
        "print(l[-2])"
      ],
      "metadata": {
        "colab": {
          "base_uri": "https://localhost:8080/"
        },
        "id": "sF0Thv4Hd6rx",
        "outputId": "c2399481-a7d3-42a5-89ce-ba4cbbd73274"
      },
      "execution_count": null,
      "outputs": [
        {
          "output_type": "stream",
          "name": "stdout",
          "text": [
            "hello\n"
          ]
        }
      ]
    },
    {
      "cell_type": "code",
      "source": [
        "print(l[-1: : -2])"
      ],
      "metadata": {
        "colab": {
          "base_uri": "https://localhost:8080/"
        },
        "id": "C0LDanT3eMJo",
        "outputId": "35dcf046-0f60-4402-b92c-18057031331b"
      },
      "execution_count": null,
      "outputs": [
        {
          "output_type": "stream",
          "name": "stdout",
          "text": [
            "[5, 4, 2]\n"
          ]
        }
      ]
    },
    {
      "cell_type": "code",
      "source": [],
      "metadata": {
        "id": "UheTkLx1i3PR"
      },
      "execution_count": null,
      "outputs": []
    }
  ]
}